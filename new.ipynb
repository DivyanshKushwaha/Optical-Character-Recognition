{
 "cells": [
  {
   "cell_type": "code",
   "execution_count": 121,
   "metadata": {},
   "outputs": [],
   "source": [
    "\n",
    "import cv2\n",
    "import numpy as np\n",
    "from PIL import Image\n",
    "import matplotlib.pyplot as plt\n",
    "import easyocr\n",
    "from src import constants\n",
    "import re\n",
    "import csv\n",
    "import os"
   ]
  },
  {
   "cell_type": "code",
   "execution_count": 122,
   "metadata": {},
   "outputs": [
    {
     "name": "stderr",
     "output_type": "stream",
     "text": [
      "Neither CUDA nor MPS are available - defaulting to CPU. Note: This module is much faster with a GPU.\n"
     ]
    },
    {
     "name": "stderr",
     "output_type": "stream",
     "text": [
      "c:\\Users\\jatin\\anaconda3\\Lib\\site-packages\\easyocr\\detection.py:78: FutureWarning: You are using `torch.load` with `weights_only=False` (the current default value), which uses the default pickle module implicitly. It is possible to construct malicious pickle data which will execute arbitrary code during unpickling (See https://github.com/pytorch/pytorch/blob/main/SECURITY.md#untrusted-models for more details). In a future release, the default value for `weights_only` will be flipped to `True`. This limits the functions that could be executed during unpickling. Arbitrary objects will no longer be allowed to be loaded via this mode unless they are explicitly allowlisted by the user via `torch.serialization.add_safe_globals`. We recommend you start setting `weights_only=True` for any use case where you don't have full control of the loaded file. Please open an issue on GitHub for any issues related to this experimental feature.\n",
      "  net.load_state_dict(copyStateDict(torch.load(trained_model, map_location=device)))\n",
      "c:\\Users\\jatin\\anaconda3\\Lib\\site-packages\\easyocr\\recognition.py:169: FutureWarning: You are using `torch.load` with `weights_only=False` (the current default value), which uses the default pickle module implicitly. It is possible to construct malicious pickle data which will execute arbitrary code during unpickling (See https://github.com/pytorch/pytorch/blob/main/SECURITY.md#untrusted-models for more details). In a future release, the default value for `weights_only` will be flipped to `True`. This limits the functions that could be executed during unpickling. Arbitrary objects will no longer be allowed to be loaded via this mode unless they are explicitly allowlisted by the user via `torch.serialization.add_safe_globals`. We recommend you start setting `weights_only=True` for any use case where you don't have full control of the loaded file. Please open an issue on GitHub for any issues related to this experimental feature.\n",
      "  state_dict = torch.load(model_path, map_location=device)\n"
     ]
    }
   ],
   "source": [
    "reader = easyocr.Reader(['en'])"
   ]
  },
  {
   "cell_type": "code",
   "execution_count": 185,
   "metadata": {},
   "outputs": [
    {
     "data": {
      "image/png": "[encoded data removed]",
      "text/plain": [
       "<Figure size 640x480 with 1 Axes>"
      ]
     },
     "metadata": {},
     "output_type": "display_data"
    }
   ],
   "source": [
    "path = r\"D:\\Dataset\\New\\images\\11gHj8dhhrL.jpg\"\n",
    "\n",
    "image = cv2.imread(path)\n",
    "plt.imshow(cv2.cvtColor(image, cv2.COLOR_BGR2RGB))\n",
    "plt.axis('off')\n",
    "plt.show()\n"
   ]
  },
  {
   "cell_type": "code",
   "execution_count": 186,
   "metadata": {},
   "outputs": [],
   "source": [
    "results = reader.readtext(image)"
   ]
  },
  {
   "cell_type": "code",
   "execution_count": 187,
   "metadata": {},
   "outputs": [
    {
     "name": "stdout",
     "output_type": "stream",
     "text": [
      "[([[191, 7], [223, 7], [223, 25], [191, 25]], 'Size', 0.5546192190027898), ([[445, 9], [489, 9], [489, 25], [445, 25]], 'Width', 0.999702886930172), ([[735, 9], [789, 9], [789, 27], [735, 27]], 'Length', 0.9999795598178105), ([[175, 39], [239, 39], [239, 57], [175, 57]], 'One Size', 0.801585312022577), ([[417, 39], [519, 39], [519, 57], [417, 57]], '10.50cm/4.13\"', 0.9445815179139814), ([[717, 39], [807, 39], [807, 57], [717, 57]], '90cm/35.43\"', 0.8982641120222012)]\n"
     ]
    }
   ],
   "source": [
    "print(results)"
   ]
  },
  {
   "cell_type": "code",
   "execution_count": 188,
   "metadata": {},
   "outputs": [],
   "source": [
    "def preprocess_image(image_path):\n",
    "    img = cv2.imread(image_path)\n",
    "    gray = cv2.cvtColor(img,cv2.COLOR_BGR2GRAY)\n",
    "    resized_img = cv2.resize(gray,(500,500))\n",
    "    return resized_img"
   ]
  },
  {
   "cell_type": "code",
   "execution_count": 189,
   "metadata": {},
   "outputs": [],
   "source": [
    "def extract_text(image_path):\n",
    "    preprocessed_img = preprocess_image(image_path)\n",
    "    result = reader.readtext(preprocessed_img)\n",
    "\n",
    "    extracted_text = \" \".join([text[1] for text in result])\n",
    "    return extracted_text"
   ]
  },
  {
   "cell_type": "code",
   "execution_count": 190,
   "metadata": {},
   "outputs": [
    {
     "data": {
      "text/plain": [
       "'M H M'"
      ]
     },
     "execution_count": 190,
     "metadata": {},
     "output_type": "execute_result"
    }
   ],
   "source": [
    "txt =extract_text(path)\n",
    "txt"
   ]
  },
  {
   "cell_type": "code",
   "execution_count": 180,
   "metadata": {},
   "outputs": [],
   "source": [
    "\n",
    "unit_abbreviation_mapping = {\n",
    "    \"cm\": \"centimetre\",\n",
    "    \"centimeter\": \"centimetre\",\n",
    "    \"mm\": \"millimetre\",\n",
    "    \"millimeter\": \"millimetre\",\n",
    "    \"kg\": \"kilogram\",\n",
    "    \"kilogramme\": \"kilogram\",\n",
    "    \"g\": \"gram\",\n",
    "    \"gm\": \"gram\",\n",
    "    \"gramme\": \"gram\",\n",
    "    \"ml\": \"millilitre\",\n",
    "    \"milliliter\": \"millilitre\",\n",
    "    \"l\": \"litre\",\n",
    "    \"lt\": \"litre\",\n",
    "    \"m\": \"metre\",\n",
    "    \"meter\": \"metre\",\n",
    "    \"kv\": \"kilovolt\",\n",
    "    \"v\":\"volt\",\n",
    "    \"kw\": \"kilowatt\",\n",
    "    \"w\":\"watt\",\n",
    "    \"oz\": \"ounce\",\n",
    "    \"ft\": \"foot\",\n",
    "    \"foot\": \"foot\",\n",
    "    \"in\": \"inch\",\n",
    "    \"inch\": \"inch\",\n",
    "    \"lbs\":\"pound\",\n",
    "\n",
    "}"
   ]
  },
  {
   "cell_type": "code",
   "execution_count": 181,
   "metadata": {},
   "outputs": [],
   "source": [
    "ocr_correction ={\"S\":\"5\", \"O\":\"0\"}\n",
    "def correct_ocr_errors(text):\n",
    "    for incorrect,correct in ocr_correction.items():\n",
    "        text = text.replace(incorrect,correct)\n",
    "    return text"
   ]
  },
  {
   "cell_type": "code",
   "execution_count": 182,
   "metadata": {},
   "outputs": [],
   "source": [
    "def map_abbreviation_to_unit(unit):\n",
    "    unit = unit.lower().strip()\n",
    "    return unit_abbreviation_mapping.get(unit,unit)\n",
    "\n"
   ]
  },
  {
   "cell_type": "code",
   "execution_count": 183,
   "metadata": {},
   "outputs": [],
   "source": [
    "def map_extracted_text_to_values(extracted_text):\n",
    "    extracted_text = correct_ocr_errors(extracted_text)\n",
    "    extracted_text = re.sub(r'\\s+', ' ', extracted_text).strip()\n",
    "    pattern= r\"(\\d+(?:\\.\\d+)?)\\s*(\\w+)\"\n",
    "    matches = re.findall(pattern,extracted_text)\n",
    "\n",
    "    mapped_values = []\n",
    "    for value,unit in matches:\n",
    "        full_unit = map_abbreviation_to_unit(unit)\n",
    "        if full_unit in constants.allowed_units:\n",
    "            return f\"{float(value)} {full_unit}\"\n",
    "  "
   ]
  },
  {
   "cell_type": "code",
   "execution_count": 184,
   "metadata": {},
   "outputs": [
    {
     "name": "stdout",
     "output_type": "stream",
     "text": [
      "7.6 centimetre\n"
     ]
    }
   ],
   "source": [
    "mapped_val = map_extracted_text_to_values(txt)\n",
    "print(mapped_val)"
   ]
  },
  {
   "cell_type": "code",
   "execution_count": 166,
   "metadata": {},
   "outputs": [],
   "source": [
    "def process_single(image_folder_path, output_csv):\n",
    "\n",
    "    output_folder = 'output'\n",
    "    if not os.path.exists(output_folder):\n",
    "        os.makedirs(output_folder)\n",
    "    \n",
    "    output_path = os.path.join(output_folder, output_csv)\n",
    "\n",
    "    with open(output_path, mode = 'w', newline = '') as file:\n",
    "        writer = csv.writer(file)\n",
    "        writer.writerow(['index','prediction'])\n",
    "\n",
    "        for index,filename in enumerate(os.listdir(image_folder_path)):\n",
    "            print(f\"processing image: {index+1} and file : {filename} \")\n",
    "            if index+1 == 40:\n",
    "                break\n",
    "\n",
    "            if filename.lower().endswith(('.png','.jpg','.jpeg')):\n",
    "                image_path = os.path.join(image_folder_path,filename)\n",
    "                extracted_text = extract_text(image_path)\n",
    "                prediction = map_extracted_text_to_values(extracted_text)\n",
    "\n",
    "  \n",
    "            writer.writerow([index,prediction])\n",
    "    print(f\"output csv saved as {output_csv}\")\n",
    "\n",
    "\n",
    "\n",
    "        "
   ]
  },
  {
   "cell_type": "code",
   "execution_count": 167,
   "metadata": {},
   "outputs": [
    {
     "name": "stdout",
     "output_type": "stream",
     "text": [
      "processing image: 1 and file : 110EibNyclL.jpg \n",
      "processing image: 2 and file : 11gHj8dhhrL.jpg \n",
      "processing image: 3 and file : 11lshEUmCrL.jpg \n",
      "processing image: 4 and file : 11TU2clswzL.jpg \n",
      "processing image: 5 and file : 21+i52HRW4L.jpg \n",
      "processing image: 6 and file : 21-LmSmehZL.jpg \n",
      "processing image: 7 and file : 213oP6n7jtL.jpg \n",
      "processing image: 8 and file : 213wY3gUsmL.jpg \n",
      "processing image: 9 and file : 214CLs1oznL.jpg \n",
      "processing image: 10 and file : 216rjgJHAeL.jpg \n",
      "processing image: 11 and file : 2174yonQBtL.jpg \n",
      "processing image: 12 and file : 218BCzgKxuL.jpg \n",
      "processing image: 13 and file : 21aD6ktvwxS.jpg \n",
      "processing image: 14 and file : 21bfrFeArAL.jpg \n",
      "processing image: 15 and file : 21BMc5GC4iL.jpg \n",
      "processing image: 16 and file : 21bwWoCpGJL.jpg \n",
      "processing image: 17 and file : 21cLufe8Y5L.jpg \n",
      "processing image: 18 and file : 21CxlWbim3L.jpg \n",
      "processing image: 19 and file : 21d6Dtc94mL.jpg \n",
      "processing image: 20 and file : 21DZ7BAZ6-L.jpg \n",
      "processing image: 21 and file : 21fIe0wHxDL.jpg \n",
      "processing image: 22 and file : 21GLFXwC1mS.jpg \n",
      "processing image: 23 and file : 21H+7R85YZL.jpg \n",
      "processing image: 24 and file : 21IGmiJi-PL.jpg \n",
      "processing image: 25 and file : 21Is45vdL0L.jpg \n",
      "processing image: 26 and file : 21jOOqo0oZL.jpg \n",
      "processing image: 27 and file : 21lqVGTzV1L.jpg \n",
      "processing image: 28 and file : 21m65YQrQdL.jpg \n",
      "processing image: 29 and file : 21nEy7KBQlL.jpg \n",
      "processing image: 30 and file : 21pFwZ8ghkL.jpg \n",
      "processing image: 31 and file : 21qcJWXFNkL.jpg \n",
      "processing image: 32 and file : 21qgWY60ABL.jpg \n",
      "processing image: 33 and file : 21qleENrBBL.jpg \n",
      "processing image: 34 and file : 21Raw7jSIML.jpg \n",
      "processing image: 35 and file : 21s+qly8nXL.jpg \n",
      "processing image: 36 and file : 21tOerzlVML.jpg \n",
      "processing image: 37 and file : 21twwj6e-VL.jpg \n",
      "processing image: 38 and file : 21Vc5ixqKpS.jpg \n",
      "processing image: 39 and file : 21vCDAVwSXS.jpg \n",
      "processing image: 40 and file : 21vv80MKQEL.jpg \n",
      "output csv saved as test_out.csv\n"
     ]
    }
   ],
   "source": [
    "image_folder = 'images'\n",
    "process_single(image_folder,'test_out.csv')"
   ]
  },
  {
   "cell_type": "code",
   "execution_count": 75,
   "metadata": {},
   "outputs": [],
   "source": [
    "import pandas as pd\n"
   ]
  },
  {
   "cell_type": "code",
   "execution_count": 76,
   "metadata": {},
   "outputs": [],
   "source": [
    "df = pd.read_csv('test.csv')"
   ]
  },
  {
   "cell_type": "code",
   "execution_count": 77,
   "metadata": {},
   "outputs": [
    {
     "data": {
      "text/html": [
       "<div>\n",
       "<style scoped>\n",
       "    .dataframe tbody tr th:only-of-type {\n",
       "        vertical-align: middle;\n",
       "    }\n",
       "\n",
       "    .dataframe tbody tr th {\n",
       "        vertical-align: top;\n",
       "    }\n",
       "\n",
       "    .dataframe thead th {\n",
       "        text-align: right;\n",
       "    }\n",
       "</style>\n",
       "<table border=\"1\" class=\"dataframe\">\n",
       "  <thead>\n",
       "    <tr style=\"text-align: right;\">\n",
       "      <th></th>\n",
       "      <th>index</th>\n",
       "      <th>prediction</th>\n",
       "    </tr>\n",
       "  </thead>\n",
       "  <tbody>\n",
       "    <tr>\n",
       "      <th>0</th>\n",
       "      <td>0</td>\n",
       "      <td>4 0 . 0   w a t t</td>\n",
       "    </tr>\n",
       "  </tbody>\n",
       "</table>\n",
       "</div>"
      ],
      "text/plain": [
       "   index         prediction\n",
       "0      0  4 0 . 0   w a t t"
      ]
     },
     "execution_count": 77,
     "metadata": {},
     "output_type": "execute_result"
    }
   ],
   "source": [
    "df.head()"
   ]
  },
  {
   "cell_type": "code",
   "execution_count": 78,
   "metadata": {},
   "outputs": [
    {
     "data": {
      "text/plain": [
       "'4 0 . 0   w a t t'"
      ]
     },
     "execution_count": 78,
     "metadata": {},
     "output_type": "execute_result"
    }
   ],
   "source": [
    "df['prediction'][0]"
   ]
  },
  {
   "cell_type": "code",
   "execution_count": null,
   "metadata": {},
   "outputs": [],
   "source": []
  }
 ],
 "metadata": {
  "kernelspec": {
   "display_name": "Python 3",
   "language": "python",
   "name": "python3"
  },
  "language_info": {
   "codemirror_mode": {
    "name": "ipython",
    "version": 3
   },
   "file_extension": ".py",
   "mimetype": "text/x-python",
   "name": "python",
   "nbconvert_exporter": "python",
   "pygments_lexer": "ipython3",
   "version": "3.11.5"
  }
 },
 "nbformat": 4,
 "nbformat_minor": 2
}
